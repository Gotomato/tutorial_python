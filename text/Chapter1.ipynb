{
 "cells": [
  {
   "cell_type": "markdown",
   "metadata": {},
   "source": [
    "# Chapter 1: Pythonの基本編\n",
    "\n",
    "1. Pythonの概要\n",
    "    1. 対話モード\n",
    "    2. スクリプトの実行\n",
    "    3. コメントの書き方\n",
    "2. 変数\n",
    "    1. 代入と参照\n",
    "    2. 数値に対する演算\n",
    "3. 関数\n",
    "4. 標準入力\n",
    "5. ファイルの読み書き\n",
    "6. 練習問題"
   ]
  },
  {
   "cell_type": "markdown",
   "metadata": {},
   "source": [
    "## 1-1. Pythonの概要\n",
    "\n",
    "### 対話モード\n",
    "    コマンドライン上で`python`というコマンドを入力することで起動する．対話モードでは，プログラムを入力し，`Enter`キーを押してすぐに実行することができる．また，対話モードを終了するためには，`exit()`と入力し実行するか`Ctrl+D`を押す．\n",
    "### スクリプトの実行\n",
    "    ファイル名`filename.py`のようにファイルの拡張子`.py`をつけたスクリプトを用意する．\n",
    "    例題として，`test.py`を作る．\n",
    "\n",
    "```python\n",
    "print(\"Hello\")\n",
    "```\n",
    "\n",
    "    このスクリプトは以下のように実行し，結果を出力する．\n",
    "```text\n",
    "$ python test.py\n",
    "Hello\n",
    "```\n"
   ]
  },
  {
   "cell_type": "code",
   "execution_count": 1,
   "metadata": {},
   "outputs": [
    {
     "name": "stdout",
     "output_type": "stream",
     "text": [
      "Hello\n"
     ]
    }
   ],
   "source": [
    "print(\"Hello\")"
   ]
  },
  {
   "cell_type": "markdown",
   "metadata": {},
   "source": [
    "### コメント\n",
    "#### 1. 行頭に`#`をつける"
   ]
  },
  {
   "cell_type": "code",
   "execution_count": 2,
   "metadata": {},
   "outputs": [
    {
     "name": "stdout",
     "output_type": "stream",
     "text": [
      "ここは実行される\n",
      "これも実行される\n"
     ]
    }
   ],
   "source": [
    "print(\"ここは実行される\")\n",
    "#print(\"ここはコメントになる\")\n",
    "print(\"これも実行される\") "
   ]
  },
  {
   "cell_type": "markdown",
   "metadata": {},
   "source": [
    "#### 2. 文字列としてコメントを書く．\n",
    "    ソースコードの中に文字列を埋め込むことができる．\n",
    "    表示しない文字列を書いても，正常に実行することができる．"
   ]
  },
  {
   "cell_type": "code",
   "execution_count": 3,
   "metadata": {},
   "outputs": [
    {
     "name": "stdout",
     "output_type": "stream",
     "text": [
      "この文字列は表示される\n",
      "この文字列も表示される\n"
     ]
    }
   ],
   "source": [
    "print(\"この文字列は表示される\")\n",
    "\n",
    "\"\"\"\n",
    "複数行のコメントを記入することができる．\n",
    "例えば，どのようなスクリプトなのかをコメントとして書き込むことなどがある．\n",
    "\"\"\"\n",
    "\n",
    "\"一行のコメントは，このように書いたりもできる．\"\n",
    "print(\"この文字列も表示される\")"
   ]
  },
  {
   "cell_type": "markdown",
   "metadata": {},
   "source": [
    "## 1-2. 変数\n",
    "\n",
    "### 代入と参照\n",
    "- 代入：具体的な値を変数に入れること．\n",
    "- 参照：変数に代入した値を利用すること"
   ]
  },
  {
   "cell_type": "code",
   "execution_count": 4,
   "metadata": {},
   "outputs": [
    {
     "name": "stdout",
     "output_type": "stream",
     "text": [
      "6.9\n"
     ]
    }
   ],
   "source": [
    "x = 0.9 # 値を代入\n",
    "y = 1 + 5 # 演算結果を代入\n",
    "print(x+y)"
   ]
  },
  {
   "cell_type": "code",
   "execution_count": 5,
   "metadata": {},
   "outputs": [
    {
     "name": "stdout",
     "output_type": "stream",
     "text": [
      "Hello\n"
     ]
    }
   ],
   "source": [
    "message = \"Hello\" # 文字列も同様\n",
    "print(message)"
   ]
  },
  {
   "cell_type": "markdown",
   "metadata": {},
   "source": [
    "### 数値に対する演算\n",
    "四則演算と剰余計算"
   ]
  },
  {
   "cell_type": "code",
   "execution_count": 6,
   "metadata": {},
   "outputs": [
    {
     "name": "stdout",
     "output_type": "stream",
     "text": [
      "14 8 33 3.6666666666666665 2\n",
      "3\n",
      "1331\n"
     ]
    }
   ],
   "source": [
    "x = 11\n",
    "y = 3\n",
    "print(x+y, x-y, x*y, x/y, x%y) # 加算,減算,乗算,除算,剰余\n",
    "print(x//y) # 小数切り捨ての除算\n",
    "print(x**y) # xのy乗"
   ]
  },
  {
   "cell_type": "markdown",
   "metadata": {},
   "source": [
    "## 1-3. 関数\n",
    "関数とは，以下の3つのようなもの．\n",
    "- 定義した個数の引数をとる\n",
    "- なんらかの処理を行う\n",
    "- 返り値を返す\n",
    "\n",
    "### 関数定義\n",
    "\n",
    "```python\n",
    "def 関数名(引数名1, 引数名2, ...):\n",
    "    # 処理\n",
    "    return 返り値\n",
    "```"
   ]
  },
  {
   "cell_type": "code",
   "execution_count": 7,
   "metadata": {
    "collapsed": true
   },
   "outputs": [],
   "source": [
    "# xとyの積を求める関数\n",
    "def product(x, y):\n",
    "    z = x * y\n",
    "    return z"
   ]
  },
  {
   "cell_type": "code",
   "execution_count": 8,
   "metadata": {},
   "outputs": [
    {
     "name": "stdout",
     "output_type": "stream",
     "text": [
      "200\n"
     ]
    }
   ],
   "source": [
    "result = product(10, 20) #product(x=10, y=20)としてもよい\n",
    "print(result)"
   ]
  },
  {
   "cell_type": "markdown",
   "metadata": {},
   "source": [
    "#### デフォルト引数\n",
    "    関数を呼び出す時に，代入しなくてもよい変数．\n",
    "    その変数には，関数の定義時に設定した値が代入され，関数を実行する．"
   ]
  },
  {
   "cell_type": "code",
   "execution_count": 9,
   "metadata": {},
   "outputs": [
    {
     "name": "stdout",
     "output_type": "stream",
     "text": [
      "6\n",
      "20\n"
     ]
    }
   ],
   "source": [
    "# yをデフォルト引数として，10を代入する\n",
    "def product(x, y=10):\n",
    "    return x * y\n",
    "\n",
    "x1 = 2\n",
    "y1 = 3\n",
    "print(product(x=x1, y=y1))\n",
    "print(product(x=x1))"
   ]
  },
  {
   "cell_type": "markdown",
   "metadata": {},
   "source": [
    "## 1-4. 標準入力\n"
   ]
  },
  {
   "cell_type": "code",
   "execution_count": 10,
   "metadata": {},
   "outputs": [
    {
     "name": "stdout",
     "output_type": "stream",
     "text": [
      "標準入力>>\n",
      "入力された文字列: \n"
     ]
    }
   ],
   "source": [
    "text = input('標準入力>>')\n",
    "print(\"入力された文字列: \" + text)"
   ]
  },
  {
   "cell_type": "markdown",
   "metadata": {},
   "source": [
    "## 1-5. ファイルの読み書き\n",
    "\n",
    "### ファイルを読み込む"
   ]
  },
  {
   "cell_type": "code",
   "execution_count": 11,
   "metadata": {},
   "outputs": [
    {
     "name": "stdout",
     "output_type": "stream",
     "text": [
      "['Hello world\\n']\n"
     ]
    }
   ],
   "source": [
    "f = open('./data/file.txt', 'r') # \"file.txt\"というファイルを読み込みモードで開く\n",
    "result = f.readlines() # 複数行を文字列のリストとして読み込む\n",
    "f.close()\n",
    "print(result)"
   ]
  },
  {
   "cell_type": "markdown",
   "metadata": {},
   "source": [
    "### ファイル書き込み"
   ]
  },
  {
   "cell_type": "code",
   "execution_count": 12,
   "metadata": {
    "collapsed": true
   },
   "outputs": [],
   "source": [
    "f = open('./data/file.txt', 'w') # 書き込みモードで開く\n",
    "f.write(\"Hello world\\n\") # 文字列を書き込む\n",
    "f.close()"
   ]
  },
  {
   "cell_type": "markdown",
   "metadata": {},
   "source": [
    "## 1-6. [練習問題](./../exercise/questions.md#chapter-1)\n",
    "一部次の章で扱う内容も含まれている．"
   ]
  }
 ],
 "metadata": {
  "kernelspec": {
   "display_name": "Python 3",
   "language": "python",
   "name": "python3"
  },
  "language_info": {
   "codemirror_mode": {
    "name": "ipython",
    "version": 3
   },
   "file_extension": ".py",
   "mimetype": "text/x-python",
   "name": "python",
   "nbconvert_exporter": "python",
   "pygments_lexer": "ipython3",
   "version": "3.4.1"
  }
 },
 "nbformat": 4,
 "nbformat_minor": 2
}

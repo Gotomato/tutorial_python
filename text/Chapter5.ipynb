{
 "cells": [
  {
   "cell_type": "markdown",
   "metadata": {},
   "source": [
    "# Chapter 5: 機械学習 実践編\n",
    "\n",
    "機械学習のアルゴリズムをまとめたモジュール[scikit-learn](http://scikit-learn.org/stable/)を学ぶ．  \n",
    "簡単なアルゴリズムを用いた実験と評価について，コードを読みつつ知る．\n",
    "\n",
    "1. scikit-learnについて\n",
    "    1. モジュールの概要\n",
    "    2. データセットのダウンロードと実験\n",
    "    3. モデルの評価\n",
    "2. 問題に合わせたコーディング\n",
    "    1. Irisの可視化\n",
    "    2. テキストデータの処理\n",
    "        1. Pipelineの作成"
   ]
  },
  {
   "cell_type": "markdown",
   "metadata": {},
   "source": [
    "## 5-1. scikit-learnについて\n",
    "### 5-1-1. モジュールの概要\n",
    "[scikit-learn](http://scikit-learn.org/stable/)のホームページに詳しい情報がある． \n",
    "\n",
    "#### 特徴\n",
    "- scikit-learn(sklearn)には，多くの機械学習アルゴリズムが入っており，統一した形式で書かれているため利用しやすい．\n",
    "- 各手法をコードで理解するだけでなく，その元となる論文も紹介されている．\n",
    "- チュートリアルやどのように利用するのかをまとめたページもあり，似た手法が列挙されている．\n",
    "\n",
    "\n",
    "### 5-1-2. データセットのダウンロードと実験\n",
    "\n",
    "例題としてIrisデータセットを用いる．  \n",
    "Irisはアヤメのデータであり，3種類の花があり，花の大きさなどの4つの特徴が与えられている．  \n",
    "花の大きさなどの4つの特徴から，どの花なのかを予測する問題を解いてみよう．\n",
    "\n",
    "#### 実験手順\n",
    "0. データセットを用意する\n",
    "1. データを学習用，テスト用に分割する\n",
    "2. 学習用データを用いて，分類器を学習させる\n",
    "3. テスト用データを用いて，分類器の性能を測る"
   ]
  },
  {
   "cell_type": "code",
   "execution_count": 4,
   "metadata": {},
   "outputs": [
    {
     "name": "stdout",
     "output_type": "stream",
     "text": [
      "[ 5.1  3.5  1.4  0.2] 0\n"
     ]
    }
   ],
   "source": [
    "# 1. データセットを用意する\n",
    "from sklearn import datasets\n",
    "iris = datasets.load_iris() # ここではIrisデータセットを読み込む\n",
    "print(iris.data[0], iris.target[0]) # 1番目のサンプルのデータとラベル"
   ]
  },
  {
   "cell_type": "code",
   "execution_count": 46,
   "metadata": {},
   "outputs": [
    {
     "data": {
      "text/plain": [
       "LinearSVC(C=1.0, class_weight=None, dual=True, fit_intercept=True,\n",
       "     intercept_scaling=1, loss='squared_hinge', max_iter=1000,\n",
       "     multi_class='ovr', penalty='l2', random_state=None, tol=0.0001,\n",
       "     verbose=0)"
      ]
     },
     "execution_count": 46,
     "metadata": {},
     "output_type": "execute_result"
    }
   ],
   "source": [
    "# 2.学習用データとテスト用データに分割する\n",
    "from sklearn.model_selection import train_test_split\n",
    "X_train, X_test, y_train, y_test = train_test_split(iris.data, iris.target)\n",
    "\n",
    "# 3. 線形SVMという手法を用いて分類する\n",
    "from sklearn.svm import SVC, LinearSVC\n",
    "clf = LinearSVC()\n",
    "clf.fit(X_train, y_train) # 学習"
   ]
  },
  {
   "cell_type": "code",
   "execution_count": 47,
   "metadata": {},
   "outputs": [
    {
     "name": "stdout",
     "output_type": "stream",
     "text": [
      "             precision    recall  f1-score   support\n",
      "\n",
      "          0       1.00      1.00      1.00        15\n",
      "          1       0.83      0.91      0.87        11\n",
      "          2       0.91      0.83      0.87        12\n",
      "\n",
      "avg / total       0.92      0.92      0.92        38\n",
      "\n"
     ]
    }
   ],
   "source": [
    "# 4. 分類器の性能を測る\n",
    "y_pred = clf.predict(X_test) # 予測\n",
    "\n",
    "from sklearn import metrics\n",
    "print(metrics.classification_report(y_true=y_test, y_pred=y_pred)) # 予測結果の評価"
   ]
  },
  {
   "cell_type": "markdown",
   "metadata": {},
   "source": [
    "### 5-1-3. モデルの評価\n",
    "性能を測るといっても，その目的によって指標を変える必要がある. \n",
    "どのような問題で，どのような指標を用いることが一般的か？という問いに対しては，先行研究を確認することを勧める．\n",
    "また，指標それぞれの特性(数学的な意味)を知っていることもその役に立つだろう．\n",
    "[参考文献:scikit-learn Model Evaluation](http://scikit-learn.org/stable/modules/model_evaluation.html)\n",
    "\n",
    "例えば，今回の分類問題に対する指標について考えてみよう．一般的な指標だけでも以下の4つがある．\n",
    "1. 正解率(accuracy)\n",
    "2. 精度(precision)\n",
    "3. 再現率(recall)\n",
    "4. F値(F1-score)\n",
    "\n",
    "（精度，再現率，F値にはmacro, micro, weightedなどがある）\n",
    "\n",
    "今回の実験でのそれぞれの値を見てみよう．"
   ]
  },
  {
   "cell_type": "code",
   "execution_count": 48,
   "metadata": {},
   "outputs": [
    {
     "name": "stdout",
     "output_type": "stream",
     "text": [
      "accuracy:  0.921052631579\n",
      "precision: 0.914141414141\n",
      "recall:    0.914141414141\n",
      "F1 score:  0.913043478261\n"
     ]
    }
   ],
   "source": [
    "print('accuracy: ', metrics.accuracy_score(y_test, y_pred))\n",
    "print('precision:', metrics.precision_score(y_test, y_pred, average='macro'))\n",
    "print('recall:   ', metrics.recall_score(y_test, y_pred, average='macro'))\n",
    "print('F1 score: ', metrics.f1_score(y_test, y_pred, average='macro'))"
   ]
  },
  {
   "cell_type": "markdown",
   "metadata": {},
   "source": [
    "## 5-2. 問題に合わせたコーディング\n",
    "\n",
    "### 5-2-1. Irisデータの可視化\n",
    "Irisデータは4次元だったので，直接可視化することはできない．  \n",
    "4次元のデータをPCAによって圧縮して，2次元にし可視化する．"
   ]
  },
  {
   "cell_type": "code",
   "execution_count": 49,
   "metadata": {},
   "outputs": [
    {
     "name": "stdout",
     "output_type": "stream",
     "text": [
      "(150, 2)\n"
     ]
    }
   ],
   "source": [
    "from sklearn.decomposition import PCA\n",
    "pca = PCA(n_components=2)\n",
    "X, y = iris.data, iris.target\n",
    "X_pca = pca.fit_transform(X) # 次元圧縮\n",
    "print(X_pca.shape)"
   ]
  },
  {
   "cell_type": "code",
   "execution_count": 50,
   "metadata": {},
   "outputs": [
    {
     "data": {
      "image/png": "[encoded data removed]",
      "text/plain": [
       "<matplotlib.figure.Figure at 0x110043f60>"
      ]
     },
     "metadata": {},
     "output_type": "display_data"
    }
   ],
   "source": [
    "import matplotlib.pyplot as plt\n",
    "%matplotlib inline\n",
    "plt.scatter(X_pca[:, 0], X_pca[:, 1], c=y);"
   ]
  },
  {
   "cell_type": "code",
   "execution_count": 53,
   "metadata": {
    "collapsed": true
   },
   "outputs": [],
   "source": [
    "from sklearn.svm import SVC\n",
    "# 次元圧縮したデータを用いて分類してみる\n",
    "X_train, X_test, y_train, y_test = train_test_split(X_pca, iris.target)\n",
    "clf = LinearSVC()\n",
    "clf.fit(X_train, y_train)\n",
    "y_pred2 = clf.predict(X_test)"
   ]
  },
  {
   "cell_type": "code",
   "execution_count": 54,
   "metadata": {},
   "outputs": [
    {
     "name": "stdout",
     "output_type": "stream",
     "text": [
      "             precision    recall  f1-score   support\n",
      "\n",
      "          0       1.00      1.00      1.00        11\n",
      "          1       0.83      1.00      0.91        10\n",
      "          2       1.00      0.88      0.94        17\n",
      "\n",
      "avg / total       0.96      0.95      0.95        38\n",
      "\n"
     ]
    }
   ],
   "source": [
    "from sklearn import metrics\n",
    "print(metrics.classification_report(y_true=y_test, y_pred=y_pred2)) # 予測結果の評価"
   ]
  },
  {
   "cell_type": "markdown",
   "metadata": {},
   "source": [
    "### 5-2-2. テキストに対する処理\n",
    "\n",
    "#### テキストから特徴量を設計\n",
    "テキストのカウントベクトルを作成し，TF-IDFを用いて特徴ベクトルを作る．  \n",
    "いくつかの設計ができるが，例題としてこの手法を用いる．\n",
    "\n",
    "ここでは，20newsgroupsというデータセットを利用する．"
   ]
  },
  {
   "cell_type": "code",
   "execution_count": 1,
   "metadata": {},
   "outputs": [
    {
     "name": "stderr",
     "output_type": "stream",
     "text": [
      "Downloading dataset from http://people.csail.mit.edu/jrennie/20Newsgroups/20news-bydate.tar.gz (14 MB)\n"
     ]
    }
   ],
   "source": [
    "from sklearn.datasets import fetch_20newsgroups\n",
    "categories = ['alt.atheism', 'soc.religion.christian','comp.graphics', 'sci.med']\n",
    "\n",
    "news_train = fetch_20newsgroups(subset='train', categories=categories, shuffle=True, random_state=42)"
   ]
  },
  {
   "cell_type": "code",
   "execution_count": 5,
   "metadata": {
    "collapsed": true
   },
   "outputs": [],
   "source": [
    "from sklearn.feature_extraction.text import CountVectorizer, TfidfTransformer\n",
    "count_vec = CountVectorizer()\n",
    "X_train_counts = count_vec.fit_transform(news_train.data)"
   ]
  },
  {
   "cell_type": "code",
   "execution_count": 6,
   "metadata": {
    "collapsed": true
   },
   "outputs": [],
   "source": [
    "tf_transformer = TfidfTransformer(use_idf=False).fit(X_train_counts)\n",
    "X_train_tf = tf_transformer.transform(X_train_counts)"
   ]
  },
  {
   "cell_type": "markdown",
   "metadata": {},
   "source": [
    "#### Naive Bayseによる学習"
   ]
  },
  {
   "cell_type": "code",
   "execution_count": 7,
   "metadata": {
    "collapsed": true
   },
   "outputs": [],
   "source": [
    "from sklearn.naive_bayes import MultinomialNB\n",
    "clf = MultinomialNB().fit(X_train_tf, news_train.target)"
   ]
  },
  {
   "cell_type": "code",
   "execution_count": 10,
   "metadata": {},
   "outputs": [
    {
     "name": "stdout",
     "output_type": "stream",
     "text": [
      "God is love. -> soc.religion.christian\n",
      "I study about Computer Science. -> sci.med\n"
     ]
    }
   ],
   "source": [
    "docs = [\"God is love.\", \"I study about Computer Science.\"]\n",
    "X_test_counts = count_vec.transform(docs)\n",
    "X_test_tf = tf_transformer.transform(X_test_counts)\n",
    "preds = clf.predict(X_test_tf)\n",
    "for d, label_id in zip(docs, preds):\n",
    "    print(\"{} -> {}\".format(d, news_train.target_names[label_id]))"
   ]
  },
  {
   "cell_type": "markdown",
   "metadata": {},
   "source": [
    "このように文に対して，categoriesのうちのどれに対応するかを出力する学習器を作ることができた．  \n",
    "この技術を応用することで，ある文がポジティブかネガティブか，スパムか否かなど自然言語の文に対する分類問題を解くことができる．  \n",
    "\n",
    "### Pipelineによる結合"
   ]
  },
  {
   "cell_type": "code",
   "execution_count": 11,
   "metadata": {},
   "outputs": [
    {
     "data": {
      "text/plain": [
       "Pipeline(steps=[('countvec', CountVectorizer(analyzer='word', binary=False, decode_error='strict',\n",
       "        dtype=<class 'numpy.int64'>, encoding='utf-8', input='content',\n",
       "        lowercase=True, max_df=1.0, max_features=None, min_df=1,\n",
       "        ngram_range=(1, 1), preprocessor=None, stop_words=None,\n",
       "        s...inear_tf=False, use_idf=True)), ('clf', MultinomialNB(alpha=1.0, class_prior=None, fit_prior=True))])"
      ]
     },
     "execution_count": 11,
     "metadata": {},
     "output_type": "execute_result"
    }
   ],
   "source": [
    "from sklearn.pipeline import Pipeline\n",
    "\n",
    "text_clf = Pipeline([('countvec', CountVectorizer()),\n",
    "                     ('tfidf', TfidfTransformer()),\n",
    "                     ('clf', MultinomialNB())])\n",
    "\n",
    "text_clf.fit(news_train.data, news_train.target)"
   ]
  },
  {
   "cell_type": "code",
   "execution_count": 13,
   "metadata": {},
   "outputs": [
    {
     "name": "stdout",
     "output_type": "stream",
     "text": [
      "God is love. -> soc.religion.christian\n",
      "I study about Computer Science. -> sci.med\n"
     ]
    }
   ],
   "source": [
    "for d, label_id in zip(docs, text_clf.predict(docs)):\n",
    "    print(\"{} -> {}\".format(d, news_train.target_names[label_id]))"
   ]
  },
  {
   "cell_type": "markdown",
   "metadata": {
    "collapsed": true
   },
   "source": [
    "## [練習問題](./../exercise/question5.md)"
   ]
  }
 ],
 "metadata": {
  "kernelspec": {
   "display_name": "Python 3",
   "language": "python",
   "name": "python3"
  },
  "language_info": {
   "codemirror_mode": {
    "name": "ipython",
    "version": 3
   },
   "file_extension": ".py",
   "mimetype": "text/x-python",
   "name": "python",
   "nbconvert_exporter": "python",
   "pygments_lexer": "ipython3",
   "version": "3.4.1"
  }
 },
 "nbformat": 4,
 "nbformat_minor": 2
}
